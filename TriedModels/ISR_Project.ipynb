{
  "nbformat": 4,
  "nbformat_minor": 0,
  "metadata": {
    "colab": {
      "provenance": []
    },
    "kernelspec": {
      "name": "python3",
      "display_name": "Python 3"
    },
    "language_info": {
      "name": "python"
    }
  },
  "cells": [
    {
      "cell_type": "code",
      "execution_count": null,
      "metadata": {
        "colab": {
          "base_uri": "https://localhost:8080/"
        },
        "id": "STl9a3NVSBHR",
        "outputId": "b2a95fde-9b35-458a-ff3d-746c3077786f"
      },
      "outputs": [
        {
          "output_type": "stream",
          "name": "stdout",
          "text": [
            "Mounted at /content/drive\n"
          ]
        }
      ],
      "source": [
        "from google.colab import drive\n",
        "drive.mount('/content/drive')"
      ]
    },
    {
      "cell_type": "code",
      "source": [
        "import pandas as pd\n",
        "\n",
        "# Read the CSV files into pandas DataFrames\n",
        "books_literature = pd.read_csv('/content/drive/MyDrive/Project/EmotionsBookClassification/data_final_dataset/database_books_analyzed.csv')\n",
        "books_kaggle = pd.read_csv('/content/drive/MyDrive/Project/Books.csv')\n",
        "\n",
        "# Print columns of the first DataFrame\n",
        "print(\"Columns of database_books_analyzed.csv:\")\n",
        "print(books_literature.columns)\n",
        "\n",
        "# Print columns of the second DataFrame\n",
        "print(\"\\nColumns of Books.csv:\")\n",
        "print(books_kaggle.columns)\n",
        "\n",
        "# Print 10 entries from database_books_analyzed.csv\n",
        "print(\"Entries from database_books_analyzed.csv:\")\n",
        "print(books_literature.head(10))\n",
        "\n",
        "# Print 10 entries from Books.csv\n",
        "print(\"\\nEntries from Books.csv:\")\n",
        "print(books_kaggle.head(10))\n",
        "\n",
        "# Merge the DataFrames based on the book title\n",
        "#merged_df = pd.merge(books_literature, books_kaggle, on='book_title', how='inner')\n",
        "\n",
        "# Display the merged DataFrame\n",
        "#print(merged_df)\n"
      ],
      "metadata": {
        "colab": {
          "base_uri": "https://localhost:8080/"
        },
        "id": "mFcqrSiITd2_",
        "outputId": "18189402-4314-4362-a29a-dfa27c325bbc"
      },
      "execution_count": null,
      "outputs": [
        {
          "output_type": "stream",
          "name": "stdout",
          "text": [
            "Columns of database_books_analyzed.csv:\n",
            "Index(['Unnamed: 0.1', 'Unnamed: 0', 'Book Id', 'Book URL', 'Book Title',\n",
            "       'Book Series', 'Book Authors', 'Book Overall Rating',\n",
            "       'Book Ratings Number', 'Book Reviews Number', 'Book Short Description',\n",
            "       'Book Full Description', 'Book Genres', 'Book Pages', 'Book Year',\n",
            "       'Emotions', 'Combined Features'],\n",
            "      dtype='object')\n",
            "\n",
            "Columns of Books.csv:\n",
            "Index(['ISBN', 'Book-Title', 'Book-Author', 'Year-Of-Publication', 'Publisher',\n",
            "       'Image-URL-S', 'Image-URL-M', 'Image-URL-L'],\n",
            "      dtype='object')\n",
            "Entries from database_books_analyzed.csv:\n",
            "   Unnamed: 0.1  Unnamed: 0  \\\n",
            "0             0           0   \n",
            "1             1           1   \n",
            "2             2           2   \n",
            "3             3           3   \n",
            "4             4           4   \n",
            "5             5           5   \n",
            "6             6           6   \n",
            "7             7           7   \n",
            "8             8           8   \n",
            "9             9           9   \n",
            "\n",
            "                                             Book Id  \\\n",
            "0  2657.To_Kill_a_Mockingbird?from_search=true&fr...   \n",
            "1  1885.Pride_and_Prejudice?from_search=true&from...   \n",
            "2  3.Harry_Potter_and_the_Sorcerer_s_Stone?from_s...   \n",
            "3                                            3263607   \n",
            "4  4671.The_Great_Gatsby?from_search=true&from_sr...   \n",
            "5  24178.Charlotte_s_Web?from_search=true&from_sr...   \n",
            "6  10210.Jane_Eyre?from_search=true&from_srp=true...   \n",
            "7  170448.Animal_Farm?from_search=true&from_srp=t...   \n",
            "8  18405.Gone_with_the_Wind?from_search=true&from...   \n",
            "9  5107.The_Catcher_in_the_Rye?from_search=true&f...   \n",
            "\n",
            "                                            Book URL  \\\n",
            "0  https://www.goodreads.com//book/show/2657.To_K...   \n",
            "1  https://www.goodreads.com/book/show/1885.Pride...   \n",
            "2  https://www.goodreads.com//book/show/3.Harry_P...   \n",
            "3  https://www.goodreads.com//book/show/3263607-t...   \n",
            "4  https://www.goodreads.com//book/show/4671.The_...   \n",
            "5  https://www.goodreads.com//book/show/24178.Cha...   \n",
            "6  https://www.goodreads.com//book/show/10210.Jan...   \n",
            "7  https://www.goodreads.com//book/show/170448.An...   \n",
            "8  https://www.goodreads.com//book/show/18405.Gon...   \n",
            "9  https://www.goodreads.com//book/show/5107.The_...   \n",
            "\n",
            "                              Book Title                 Book Series  \\\n",
            "0                  To Kill a Mockingbird     (To Kill a Mockingbird)   \n",
            "1                    Pride and Prejudice                          no   \n",
            "2  Harry Potter and the Sorcerer's Stone           (Harry Potter #1)   \n",
            "3             The Fellowship of the Ring  (The Lord of the Rings #1)   \n",
            "4                       The Great Gatsby                          no   \n",
            "5                        Charlotte's Web                          no   \n",
            "6                              Jane Eyre                          no   \n",
            "7                            Animal Farm                          no   \n",
            "8                     Gone with the Wind                          no   \n",
            "9                 The Catcher in the Rye                          no   \n",
            "\n",
            "              Book Authors  Book Overall Rating  Book Ratings Number  \\\n",
            "0           ['Harper Lee']                 4.27              5243742   \n",
            "1          ['Jane Austen']                 4.28              3580934   \n",
            "2         ['J.K. Rowling']                 4.48              8463719   \n",
            "3       ['J.R.R. Tolkien']                 4.38              2566181   \n",
            "4  ['F. Scott Fitzgerald']                 3.93              4420055   \n",
            "5           ['E.B. White']                 4.19              1618599   \n",
            "6    ['Charlotte BrontÃ«']                 4.14              1843309   \n",
            "7        ['George Orwell']                 3.97              3247770   \n",
            "8    ['Margaret Mitchell']                 4.30              1146993   \n",
            "9        ['J.D. Salinger']                 3.81              3096887   \n",
            "\n",
            "   Book Reviews Number                             Book Short Description  \\\n",
            "0               102742  The unforgettable novel of a childhood in a sl...   \n",
            "1                86516  Since its immediate success in 1813, Pride and...   \n",
            "2               133741  Harry Potter's life is miserable. His parents ...   \n",
            "3                29112  One Ring to rule them all, One Ring to find th...   \n",
            "4                82447  Alternate Cover Edition ISBN: 0743273567 (ISBN...   \n",
            "5                20613  This beloved book by E. B. White, author of St...   \n",
            "6                51252  Orphaned as a child, Jane has felt an outcast ...   \n",
            "7                72268  Librarian's note: There is an Alternate Cover ...   \n",
            "8                21814  Scarlett O'Hara, the beautiful, spoiled daught...   \n",
            "9                68131  It's Christmas time and Holden Caulfield has j...   \n",
            "\n",
            "                               Book Full Description  \\\n",
            "0  The unforgettable novel of a childhood in a sl...   \n",
            "1  Since its immediate success in 1813, Pride and...   \n",
            "2  Harry Potter's life is miserable. His parents ...   \n",
            "3  One Ring to rule them all, One Ring to find th...   \n",
            "4  Alternate Cover Edition ISBN: 0743273567 (ISBN...   \n",
            "5  This beloved book by E. B. White, author of St...   \n",
            "6  Orphaned as a child, Jane has felt an outcast ...   \n",
            "7  Librarian's note: There is an Alternate Cover ...   \n",
            "8  Scarlett O'Hara, the beautiful, spoiled daught...   \n",
            "9  It's Christmas time and Holden Caulfield has j...   \n",
            "\n",
            "                                         Book Genres  Book Pages  Book Year  \\\n",
            "0  ['Classics', 'Fiction', 'Historical', 'Histori...         336       1960   \n",
            "1  ['Classics', 'Romance', 'Historical > Historic...         279       1813   \n",
            "2  ['Fantasy', 'Fiction', 'Young Adult', 'Fantasy...         309       1997   \n",
            "3  ['Fantasy', 'Classics', 'Fiction', 'Adventure'...         527       1954   \n",
            "4  ['Classics', 'Fiction', 'Academic', 'School', ...         200       1925   \n",
            "5  ['Classics', 'Childrens', 'Fiction', 'Young Ad...         184       1952   \n",
            "6  ['Classics', 'Fiction', 'Romance', 'Historical...         532       1847   \n",
            "7  ['Classics', 'Fiction', 'Science Fiction', 'Dy...         141       1945   \n",
            "8  ['Classics', 'Historical', 'Historical Fiction...        1037       1936   \n",
            "9  ['Classics', 'Fiction', 'Young Adult', 'Litera...         277       1951   \n",
            "\n",
            "                                            Emotions  \\\n",
            "0  [(' happy', 415), (' attached', 307), (' sad',...   \n",
            "1  [(' happy', 562), (' fearful', 310), (' sad', ...   \n",
            "2  [(' happy', 536), (' attached', 316), (' sad',...   \n",
            "3  [(' happy', 554), (' sad', 407), (' attached',...   \n",
            "4  [(' happy', 519), (' sad', 308), (' attached',...   \n",
            "5  [(' happy', 413), (' attached', 211), (' sad',...   \n",
            "6  [(' attached', 373), (' happy', 326), (' sad',...   \n",
            "7  [(' powerless', 175), (' happy', 160), (' atta...   \n",
            "8  [(' attached', 397), (' happy', 360), (' sad',...   \n",
            "9  [(' happy', 480), (' attached', 285), (' sad',...   \n",
            "\n",
            "                                   Combined Features  \n",
            "0  to kill a mockingbird (to kill a mockingbird) ...  \n",
            "1  pride and prejudice jane austen happy fearful ...  \n",
            "2  harry potter and the sorcerer's stone (harry p...  \n",
            "3  the fellowship of the ring (the lord of the ri...  \n",
            "4  the great gatsby f. scott fitzgerald happy sad...  \n",
            "5  charlotte's web e.b. white happy attached sad ...  \n",
            "6  jane eyre charlotte brontã« attached happy sad...  \n",
            "7  animal farm george orwell powerless happy atta...  \n",
            "8  gone with the wind margaret mitchell attached ...  \n",
            "9  the catcher in the rye j.d. salinger happy att...  \n",
            "\n",
            "Entries from Books.csv:\n",
            "         ISBN                                         Book-Title  \\\n",
            "0  0195153448                                Classical Mythology   \n",
            "1  0002005018                                       Clara Callan   \n",
            "2  0060973129                               Decision in Normandy   \n",
            "3  0374157065  Flu: The Story of the Great Influenza Pandemic...   \n",
            "4  0393045218                             The Mummies of Urumchi   \n",
            "5  0399135782                             The Kitchen God's Wife   \n",
            "6  0425176428  What If?: The World's Foremost Military Histor...   \n",
            "7  0671870432                                    PLEADING GUILTY   \n",
            "8  0679425608  Under the Black Flag: The Romance and the Real...   \n",
            "9  074322678X            Where You'll Find Me: And Other Stories   \n",
            "\n",
            "            Book-Author Year-Of-Publication                   Publisher  \\\n",
            "0    Mark P. O. Morford                2002     Oxford University Press   \n",
            "1  Richard Bruce Wright                2001       HarperFlamingo Canada   \n",
            "2          Carlo D'Este                1991             HarperPerennial   \n",
            "3      Gina Bari Kolata                1999        Farrar Straus Giroux   \n",
            "4       E. J. W. Barber                1999  W. W. Norton &amp; Company   \n",
            "5               Amy Tan                1991            Putnam Pub Group   \n",
            "6         Robert Cowley                2000    Berkley Publishing Group   \n",
            "7           Scott Turow                1993                  Audioworks   \n",
            "8       David Cordingly                1996                Random House   \n",
            "9           Ann Beattie                2002                    Scribner   \n",
            "\n",
            "                                         Image-URL-S  \\\n",
            "0  http://images.amazon.com/images/P/0195153448.0...   \n",
            "1  http://images.amazon.com/images/P/0002005018.0...   \n",
            "2  http://images.amazon.com/images/P/0060973129.0...   \n",
            "3  http://images.amazon.com/images/P/0374157065.0...   \n",
            "4  http://images.amazon.com/images/P/0393045218.0...   \n",
            "5  http://images.amazon.com/images/P/0399135782.0...   \n",
            "6  http://images.amazon.com/images/P/0425176428.0...   \n",
            "7  http://images.amazon.com/images/P/0671870432.0...   \n",
            "8  http://images.amazon.com/images/P/0679425608.0...   \n",
            "9  http://images.amazon.com/images/P/074322678X.0...   \n",
            "\n",
            "                                         Image-URL-M  \\\n",
            "0  http://images.amazon.com/images/P/0195153448.0...   \n",
            "1  http://images.amazon.com/images/P/0002005018.0...   \n",
            "2  http://images.amazon.com/images/P/0060973129.0...   \n",
            "3  http://images.amazon.com/images/P/0374157065.0...   \n",
            "4  http://images.amazon.com/images/P/0393045218.0...   \n",
            "5  http://images.amazon.com/images/P/0399135782.0...   \n",
            "6  http://images.amazon.com/images/P/0425176428.0...   \n",
            "7  http://images.amazon.com/images/P/0671870432.0...   \n",
            "8  http://images.amazon.com/images/P/0679425608.0...   \n",
            "9  http://images.amazon.com/images/P/074322678X.0...   \n",
            "\n",
            "                                         Image-URL-L  \n",
            "0  http://images.amazon.com/images/P/0195153448.0...  \n",
            "1  http://images.amazon.com/images/P/0002005018.0...  \n",
            "2  http://images.amazon.com/images/P/0060973129.0...  \n",
            "3  http://images.amazon.com/images/P/0374157065.0...  \n",
            "4  http://images.amazon.com/images/P/0393045218.0...  \n",
            "5  http://images.amazon.com/images/P/0399135782.0...  \n",
            "6  http://images.amazon.com/images/P/0425176428.0...  \n",
            "7  http://images.amazon.com/images/P/0671870432.0...  \n",
            "8  http://images.amazon.com/images/P/0679425608.0...  \n",
            "9  http://images.amazon.com/images/P/074322678X.0...  \n"
          ]
        },
        {
          "output_type": "stream",
          "name": "stderr",
          "text": [
            "<ipython-input-3-e50d062cddd0>:5: DtypeWarning: Columns (3) have mixed types. Specify dtype option on import or set low_memory=False.\n",
            "  books_kaggle = pd.read_csv('/content/drive/MyDrive/Project/Books.csv')\n"
          ]
        }
      ]
    },
    {
      "cell_type": "code",
      "source": [
        "# Merge the DataFrames based on the book title\n",
        "merged_df = pd.merge(books_literature, books_kaggle, left_on='Book Title', right_on='Book-Title', how='inner')\n",
        "\n",
        "# Define the columns you want to include in the output\n",
        "columns_to_print = ['Book Title', 'Book Authors', 'Book Overall Rating', 'ISBN', 'Book-Author' ]  # Add other column names as needed\n",
        "\n",
        "# Print only the mentioned columns in the merged DataFrame\n",
        "#print(merged_df[columns_to_print])\n",
        "\n",
        "# Drop duplicate rows based on ISBN\n",
        "merged_df_unique_isbn = merged_df.drop_duplicates(subset='ISBN')\n",
        "\n",
        "# Print the resulting DataFrame\n",
        "#print(merged_df_unique_isbn[columns_to_print])\n",
        "\n",
        "# Sort the DataFrame based on 'Book Overall Rating'\n",
        "sorted_df = merged_df_unique_isbn.sort_values(by='Book Overall Rating', ascending=False)\n",
        "\n",
        "# Print the sorted DataFrame\n",
        "print(sorted_df[columns_to_print])"
      ],
      "metadata": {
        "colab": {
          "base_uri": "https://localhost:8080/"
        },
        "id": "OGduGgbxWASm",
        "outputId": "3c95dcea-0a0a-40b4-885d-83bf7ff56287"
      },
      "execution_count": null,
      "outputs": [
        {
          "output_type": "stream",
          "name": "stdout",
          "text": [
            "                                   Book Title             Book Authors  \\\n",
            "219  Harry Potter and the Prisoner of Azkaban         ['J.K. Rowling']   \n",
            "27      Harry Potter and the Sorcerer's Stone         ['J.K. Rowling']   \n",
            "26      Harry Potter and the Sorcerer's Stone         ['J.K. Rowling']   \n",
            "190        The Holy Bible: King James Version            ['Anonymous']   \n",
            "206                              East of Eden       ['John Steinbeck']   \n",
            "..                                        ...                      ...   \n",
            "275                        The Scarlet Letter  ['Nathaniel Hawthorne']   \n",
            "274                        The Scarlet Letter  ['Nathaniel Hawthorne']   \n",
            "273                        The Scarlet Letter  ['Nathaniel Hawthorne']   \n",
            "272                        The Scarlet Letter  ['Nathaniel Hawthorne']   \n",
            "270                        The Scarlet Letter  ['Nathaniel Hawthorne']   \n",
            "\n",
            "     Book Overall Rating        ISBN           Book-Author  \n",
            "219                 4.58  0747545111         J. K. Rowling  \n",
            "27                  4.48  0939173344          J.K. Rowling  \n",
            "26                  4.48  1594130000         J. K. Rowling  \n",
            "190                 4.42  0529064634  Not Applicable (Na )  \n",
            "206                 4.39  0140049975        John Steinbeck  \n",
            "..                   ...         ...                   ...  \n",
            "275                 3.43  1578151139   Nathaniel Hawthorne  \n",
            "274                 3.43  3895084573   Nathaniel Hawthorne  \n",
            "273                 3.43  0881030457   Nathaniel Hawthorne  \n",
            "272                 3.43  1590071352   Nathaniel Hawthorne  \n",
            "270                 3.43  1566190959   Nathaniel Hawthorne  \n",
            "\n",
            "[376 rows x 5 columns]\n"
          ]
        }
      ]
    },
    {
      "cell_type": "code",
      "source": [
        "sorted_df.to_csv('/content/drive/MyDrive/Project/literature_kaggle_books.csv')"
      ],
      "metadata": {
        "id": "-lafDETeVdwK"
      },
      "execution_count": null,
      "outputs": []
    },
    {
      "cell_type": "code",
      "source": [
        "# Read the CSV files into pandas DataFrames\n",
        "users_kaggle = pd.read_csv('/content/drive/MyDrive/Project/Users.csv')\n",
        "\n",
        "# Print columns of the first DataFrame\n",
        "print(\"Columns of Users.csv:\")\n",
        "print(users_kaggle.columns)"
      ],
      "metadata": {
        "colab": {
          "base_uri": "https://localhost:8080/"
        },
        "id": "sOtMB_9fYLGt",
        "outputId": "d8463347-166d-47c5-e7a7-3560e2ae7f73"
      },
      "execution_count": null,
      "outputs": [
        {
          "output_type": "stream",
          "name": "stdout",
          "text": [
            "Columns of Users.csv:\n",
            "Index(['User-ID', 'Location', 'Age'], dtype='object')\n"
          ]
        }
      ]
    },
    {
      "cell_type": "code",
      "source": [
        "# Read the CSV files into pandas DataFrames\n",
        "ratings_kaggle = pd.read_csv('/content/drive/MyDrive/Project/Ratings.csv')\n",
        "\n",
        "# Print columns of the first DataFrame\n",
        "print(\"Columns of Users.csv:\")\n",
        "print(ratings_kaggle.columns)"
      ],
      "metadata": {
        "colab": {
          "base_uri": "https://localhost:8080/"
        },
        "id": "ZU_shla9Ylz1",
        "outputId": "77911665-5a15-4aa1-9e4a-a2ed9a1864db"
      },
      "execution_count": null,
      "outputs": [
        {
          "output_type": "stream",
          "name": "stdout",
          "text": [
            "Columns of Users.csv:\n",
            "Index(['User-ID', 'ISBN', 'Book-Rating'], dtype='object')\n"
          ]
        }
      ]
    },
    {
      "cell_type": "code",
      "source": [
        "# Merge the DataFrames based on the book title\n",
        "merged_literature_books_ratings = pd.merge(sorted_df, ratings_kaggle, left_on='ISBN', right_on='ISBN', how='inner')\n",
        "\n",
        "# Define the columns you want to include in the output\n",
        "columns_to_print_new = ['Book Title', 'User-ID', 'Book-Rating', 'ISBN' ]  # Add other column names as needed\n",
        "\n",
        "# Print the sorted DataFrame\n",
        "print(merged_literature_books_ratings[columns_to_print_new])"
      ],
      "metadata": {
        "colab": {
          "base_uri": "https://localhost:8080/"
        },
        "id": "ZvmLKnxuYt3n",
        "outputId": "1f4beccf-9104-4ce2-83b0-ebcd1b8f2b79"
      },
      "execution_count": null,
      "outputs": [
        {
          "output_type": "stream",
          "name": "stdout",
          "text": [
            "                                    Book Title  User-ID  Book-Rating  \\\n",
            "0     Harry Potter and the Prisoner of Azkaban   276925            0   \n",
            "1     Harry Potter and the Prisoner of Azkaban    76626            7   \n",
            "2     Harry Potter and the Prisoner of Azkaban   262070            8   \n",
            "3        Harry Potter and the Sorcerer's Stone   211758            0   \n",
            "4        Harry Potter and the Sorcerer's Stone   104139            8   \n",
            "...                                        ...      ...          ...   \n",
            "7253                        The Scarlet Letter    68555            8   \n",
            "7254                        The Scarlet Letter    72950            6   \n",
            "7255                        The Scarlet Letter   179730            7   \n",
            "7256                        The Scarlet Letter   183061            0   \n",
            "7257                        The Scarlet Letter   254899            9   \n",
            "\n",
            "            ISBN  \n",
            "0     0747545111  \n",
            "1     0747545111  \n",
            "2     0747545111  \n",
            "3     0939173344  \n",
            "4     1594130000  \n",
            "...          ...  \n",
            "7253  1566190959  \n",
            "7254  1566190959  \n",
            "7255  1566190959  \n",
            "7256  1566190959  \n",
            "7257  1566190959  \n",
            "\n",
            "[7258 rows x 4 columns]\n"
          ]
        }
      ]
    },
    {
      "cell_type": "code",
      "source": [
        "merged_literature_books_ratings.to_csv('/content/drive/MyDrive/Project/literature_kaggle_ratings.csv')"
      ],
      "metadata": {
        "id": "6dZz1vvUZN-d"
      },
      "execution_count": null,
      "outputs": []
    },
    {
      "cell_type": "code",
      "source": [
        "# Then, use the generated dictionaries to reindex UserID and MovieID in the data_df\n",
        "user_list = merged_literature_books_ratings['User-ID'].values\n",
        "book_list = merged_literature_books_ratings['ISBN'].values\n",
        "\n",
        "print(user_list)\n",
        "print(book_list)\n",
        "\n",
        "user_list_size = len(user_list)\n",
        "movie_list_size = len(book_list)\n",
        "\n",
        "print(\"Size of user_list:\", user_list_size)\n",
        "print(\"Size of movie_list:\", movie_list_size)\n",
        "\n",
        "\n",
        "# Assuming user_list and movie_list are already defined\n",
        "import numpy as np\n",
        "\n",
        "unique_users = np.unique(user_list)\n",
        "unique_books = np.unique(book_list)\n",
        "\n",
        "print(\"Number of unique users:\", len(unique_users))\n",
        "print(\"Number of unique Books:\", len(unique_books))"
      ],
      "metadata": {
        "colab": {
          "base_uri": "https://localhost:8080/",
          "height": 268
        },
        "id": "p7U37E8Pa3dB",
        "outputId": "09a6908f-aec1-4726-c4e2-8987fbc64577"
      },
      "execution_count": null,
      "outputs": [
        {
          "output_type": "stream",
          "name": "stdout",
          "text": [
            "[276925  76626 262070 ... 179730 183061 254899]\n",
            "['0747545111' '0747545111' '0747545111' ... '1566190959' '1566190959'\n",
            " '1566190959']\n",
            "Size of user_list: 7258\n",
            "Size of movie_list: 7258\n",
            "Number of unique users: 4373\n",
            "Number of unique Books: 374\n"
          ]
        },
        {
          "output_type": "execute_result",
          "data": {
            "text/plain": [
              "\"for j in range(len(data_df)):\\n    user_list[j] = user_old2new_id_dict[user_list[j]]\\n    movie_list[j] = movie_old2new_id_dict[movie_list[j]]\\ndata_df['UserID'] = user_list\\ndata_df['movieID'] = movie_list\\n\\n# generate train_df with 70% samples and test_df with 30% samples, and there should have no overlap between them.\\nnp.random.seed(12)\\ntrain_index = np.random.random(len(data_df)) <= 0.7\\ntrain_df = data_df[train_index]\\ntest_df = data_df[~train_index]\\n\\n# generate train_mat and test_mat\\nnum_user = len(data_df['UserID'].unique())\\nnum_movie = len(data_df['MovieID'].unique())\\n\\ntrain_mat = coo_matrix((train_df['Rating'].values, (train_df['UserID'].values, train_df['MovieID'].values)), shape=(num_user, num_movie)).astype(float).toarray()\\ntest_mat = coo_matrix((test_df['Rating'].values, (test_df['UserID'].values, test_df['MovieID'].values)), shape=(num_user, num_movie)).astype(float).toarray()\""
            ],
            "application/vnd.google.colaboratory.intrinsic+json": {
              "type": "string"
            }
          },
          "metadata": {},
          "execution_count": 21
        }
      ]
    },
    {
      "cell_type": "code",
      "source": [
        "import pandas as pd\n",
        "import numpy as np\n",
        "\n",
        "# Assuming merged_literature_books_ratings is your DataFrame containing ratings for books\n",
        "\n",
        "# First, generate dictionaries for mapping old ISBN to new ISBN\n",
        "unique_ISBN = merged_literature_books_ratings['ISBN'].unique()\n",
        "unique_UserID = merged_literature_books_ratings['User-ID'].unique()\n",
        "j = 0\n",
        "user_old2new_id_dict = dict()\n",
        "for u in unique_UserID:\n",
        "    user_old2new_id_dict[u] = j\n",
        "    j += 1\n",
        "j = 0\n",
        "book_old2new_id_dict = dict()\n",
        "for i in unique_ISBN:\n",
        "    book_old2new_id_dict[i] = j\n",
        "    j += 1\n",
        "\n",
        "# Then, use the generated dictionary to reindex ISBN in the merged_literature_books_ratings DataFrame\n",
        "user_list = merged_literature_books_ratings['User-ID'].values\n",
        "book_list = merged_literature_books_ratings['ISBN'].values\n",
        "for j in range(len(merged_literature_books_ratings)):\n",
        "    user_list[j] = user_old2new_id_dict[user_list[j]]\n",
        "    book_list[j] = book_old2new_id_dict[book_list[j]]\n",
        "merged_literature_books_ratings['ISBN'] = book_list\n",
        "merged_literature_books_ratings['User-ID'] = user_list\n",
        "\n",
        "\n"
      ],
      "metadata": {
        "id": "KKI2xCdkeBrA"
      },
      "execution_count": null,
      "outputs": []
    },
    {
      "cell_type": "code",
      "source": [
        "!pip install scikit-surprise\n"
      ],
      "metadata": {
        "colab": {
          "base_uri": "https://localhost:8080/"
        },
        "id": "k4tU1eRbkeqp",
        "outputId": "86a7e8d0-1002-44b2-f8b5-40cf2067484b"
      },
      "execution_count": null,
      "outputs": [
        {
          "output_type": "stream",
          "name": "stdout",
          "text": [
            "Collecting scikit-surprise\n",
            "  Downloading scikit-surprise-1.1.3.tar.gz (771 kB)\n",
            "\u001b[2K     \u001b[90m━━━━━━━━━━━━━━━━━━━━━━━━━━━━━━━━━━━━━━━━\u001b[0m \u001b[32m772.0/772.0 kB\u001b[0m \u001b[31m7.3 MB/s\u001b[0m eta \u001b[36m0:00:00\u001b[0m\n",
            "\u001b[?25h  Preparing metadata (setup.py) ... \u001b[?25l\u001b[?25hdone\n",
            "Requirement already satisfied: joblib>=1.0.0 in /usr/local/lib/python3.10/dist-packages (from scikit-surprise) (1.4.0)\n",
            "Requirement already satisfied: numpy>=1.17.3 in /usr/local/lib/python3.10/dist-packages (from scikit-surprise) (1.25.2)\n",
            "Requirement already satisfied: scipy>=1.3.2 in /usr/local/lib/python3.10/dist-packages (from scikit-surprise) (1.11.4)\n",
            "Building wheels for collected packages: scikit-surprise\n",
            "  Building wheel for scikit-surprise (setup.py) ... \u001b[?25l\u001b[?25hdone\n",
            "  Created wheel for scikit-surprise: filename=scikit_surprise-1.1.3-cp310-cp310-linux_x86_64.whl size=3163000 sha256=e074c72da8edfe7210d43eecfa1b1d305774fe745a61a6b59cdbd03d590a8c1c\n",
            "  Stored in directory: /root/.cache/pip/wheels/a5/ca/a8/4e28def53797fdc4363ca4af740db15a9c2f1595ebc51fb445\n",
            "Successfully built scikit-surprise\n",
            "Installing collected packages: scikit-surprise\n",
            "Successfully installed scikit-surprise-1.1.3\n"
          ]
        }
      ]
    },
    {
      "cell_type": "code",
      "source": [
        "from surprise import Dataset, Reader, KNNBasic\n",
        "from surprise.model_selection import train_test_split\n",
        "\n",
        "# Load your dataset\n",
        "reader = Reader(rating_scale=(1, 10))  # Adjust the rating scale as per your dataset\n",
        "data = Dataset.load_from_df(merged_literature_books_ratings[['User-ID', 'ISBN', 'Book-Rating']], reader)\n",
        "\n",
        "# Split the data into training and test sets\n",
        "trainset, testset = train_test_split(data, test_size=0.2)\n",
        "\n",
        "# Set up the algorithm with Pearson baseline similarity\n",
        "sim_options = {\n",
        "    \"name\": \"pearson_baseline\",\n",
        "    \"user_based\": True,  # compute similarities between users\n",
        "}\n",
        "\n",
        "algo = KNNBasic(sim_options=sim_options)\n",
        "\n",
        "# Train the model\n",
        "algo.fit(trainset)\n",
        "\n",
        "# Predict ratings for the test set\n",
        "predictions = algo.test(testset)\n",
        "\n",
        "# Print out some predictions\n",
        "for prediction in predictions[:10]:\n",
        "    print(prediction)\n",
        "from surprise import accuracy\n",
        "\n",
        "# Calculate and print RMSE\n",
        "rmse = accuracy.rmse(predictions)\n",
        "\n",
        "# Calculate and print MAE\n",
        "mae = accuracy.mae(predictions)\n"
      ],
      "metadata": {
        "colab": {
          "base_uri": "https://localhost:8080/"
        },
        "id": "Y_RcizM4lQp4",
        "outputId": "3d9ba3a1-b46a-409f-c1b5-f855ac1dd60a"
      },
      "execution_count": null,
      "outputs": [
        {
          "output_type": "stream",
          "name": "stdout",
          "text": [
            "Estimating biases using als...\n",
            "Computing the pearson_baseline similarity matrix...\n",
            "Done computing similarity matrix.\n",
            "user: 2885       item: 193        r_ui = 10.00   est = 4.02   {'was_impossible': True, 'reason': 'User and/or item is unknown.'}\n",
            "user: 2067       item: 135        r_ui = 0.00   est = 1.00   {'actual_k': 1, 'was_impossible': False}\n",
            "user: 616        item: 43         r_ui = 0.00   est = 4.02   {'was_impossible': True, 'reason': 'User and/or item is unknown.'}\n",
            "user: 1763       item: 92         r_ui = 0.00   est = 4.02   {'was_impossible': True, 'reason': 'Not enough neighbors.'}\n",
            "user: 542        item: 243        r_ui = 0.00   est = 4.02   {'was_impossible': True, 'reason': 'Not enough neighbors.'}\n",
            "user: 2126       item: 117        r_ui = 10.00   est = 4.02   {'was_impossible': True, 'reason': 'User and/or item is unknown.'}\n",
            "user: 690        item: 324        r_ui = 0.00   est = 8.54   {'actual_k': 3, 'was_impossible': False}\n",
            "user: 1303       item: 77         r_ui = 0.00   est = 4.02   {'was_impossible': True, 'reason': 'Not enough neighbors.'}\n",
            "user: 1361       item: 193        r_ui = 8.00   est = 4.02   {'was_impossible': True, 'reason': 'Not enough neighbors.'}\n",
            "user: 2075       item: 111        r_ui = 0.00   est = 4.02   {'was_impossible': True, 'reason': 'Not enough neighbors.'}\n",
            "RMSE: 4.4853\n",
            "MAE:  4.1632\n"
          ]
        }
      ]
    },
    {
      "cell_type": "code",
      "source": [
        "import pandas as pd\n",
        "\n",
        "# Read the CSV files into pandas DataFrames\n",
        "books_all = pd.read_csv('/content/drive/MyDrive/Project/merged_emotions_all.csv')\n",
        "books_kaggle = pd.read_csv('/content/drive/MyDrive/Project/Books.csv')\n",
        "\n",
        "# Print columns of the first DataFrame\n",
        "print(\"Columns of database_books_analyzed.csv:\")\n",
        "print(books_all.columns)\n",
        "\n",
        "# Print columns of the second DataFrame\n",
        "print(\"\\nColumns of Books.csv:\")\n",
        "print(books_kaggle.columns)\n",
        "\n",
        "# Print 10 entries from database_books_analyzed.csv\n",
        "print(\"Entries from database_books_analyzed.csv:\")\n",
        "print(books_all.head(10))\n",
        "\n",
        "# Print 10 entries from Books.csv\n",
        "print(\"\\nEntries from Books.csv:\")\n",
        "print(books_kaggle.head(10))\n",
        "\n",
        "# Merge the DataFrames based on the book title\n",
        "#merged_df = pd.merge(books_literature, books_kaggle, on='book_title', how='inner')\n",
        "\n",
        "# Display the merged DataFrame\n",
        "#print(merged_df)"
      ],
      "metadata": {
        "id": "idPDz1CnkQzC",
        "colab": {
          "base_uri": "https://localhost:8080/"
        },
        "outputId": "dbae5aed-abd3-47d7-a0f7-62da94b9cbfb"
      },
      "execution_count": null,
      "outputs": [
        {
          "output_type": "stream",
          "name": "stdout",
          "text": [
            "Columns of database_books_analyzed.csv:\n",
            "Index(['Book', 'Author', 'Description', 'Genres', 'Year of Publication',\n",
            "       'Publisher', 'URL', 'Aggregated Emotions', 'Aggregated Des Emotions'],\n",
            "      dtype='object')\n",
            "\n",
            "Columns of Books.csv:\n",
            "Index(['ISBN', 'Book-Title', 'Book-Author', 'Year-Of-Publication', 'Publisher',\n",
            "       'Image-URL-S', 'Image-URL-M', 'Image-URL-L'],\n",
            "      dtype='object')\n",
            "Entries from database_books_analyzed.csv:\n",
            "                                Book             Author  \\\n",
            "0                     my idea of fun          will self   \n",
            "1                 the magic mountain        thomas mann   \n",
            "2                       the drifters  james a. michener   \n",
            "3                the golden notebook      doris lessing   \n",
            "4  the missing piece meets the big o   shel silverstein   \n",
            "5                       'salem's lot       stephen king   \n",
            "6                      gerald's game       stephen king   \n",
            "7           i know this much is true         wally lamb   \n",
            "8             horton hatches the egg          dr. seuss   \n",
            "9               look homeward, angel       thomas wolfe   \n",
            "\n",
            "                                         Description   Genres  \\\n",
            "0  self established one brilliant daring inventiv...  Fiction   \n",
            "1  dizzyingly rich novel ideas mann uses sanatori...  Fiction   \n",
            "2  triumphant best seller james michener unfolds ...  Fiction   \n",
            "3  anna writer author one successful novel keeps ...  Fiction   \n",
            "4  shel silverstein celebrated author giving tree...  Fiction   \n",
            "5  librarian note alternate cover edition isbn 04...  Fiction   \n",
            "6  game husband wife game gerald game time jessie...  Fiction   \n",
            "7  afternoon october 12 1990 twin brother thomas ...  Fiction   \n",
            "8  beloved generations kindness loyalty horton el...  Fiction   \n",
            "9  look homeward angel story buried life 1929 nov...  Fiction   \n",
            "\n",
            "   Year of Publication                      Publisher  \\\n",
            "0                 1995                        Vintage   \n",
            "1                 1996                        Vintage   \n",
            "2                 1986                  Fawcett Books   \n",
            "3                 1981                         Bantam   \n",
            "4                 1981                  HarperCollins   \n",
            "5                 1990                    Signet Book   \n",
            "6                 2001                    Signet Book   \n",
            "7                 1999                    Regan Books   \n",
            "8                 1966  Random House Children's Books   \n",
            "9                 1995                       Scribner   \n",
            "\n",
            "                                                 URL  \\\n",
            "0  https://www.goodreads.com/book/show/119116.My_...   \n",
            "1  https://www.goodreads.com/book/show/88077.The_...   \n",
            "2  https://www.goodreads.com/book/show/42955.The_...   \n",
            "3  https://www.goodreads.com/book/show/24100.The_...   \n",
            "4  https://www.goodreads.com/book/show/30125.The_...   \n",
            "5  https://www.goodreads.com/book/show/11590._Sal...   \n",
            "6  https://www.goodreads.com/book/show/32692.Gera...   \n",
            "7  https://www.goodreads.com/book/show/227711.I_K...   \n",
            "8  https://www.goodreads.com/book/show/11301.Hort...   \n",
            "9  https://www.goodreads.com/book/show/12448.Look...   \n",
            "\n",
            "                                 Aggregated Emotions  \\\n",
            "0  [(' happy', 9), (' sad', 7), (' fearful', 6), ...   \n",
            "1  [(' happy', 32), (' attracted', 16), (' sad', ...   \n",
            "2  [(' happy', 18), (' free', 8), (' attracted', ...   \n",
            "3  [(' sad', 33), (' happy', 28), (' attracted', ...   \n",
            "4  [(' alone', 4), (' fearful', 1), (' attracted'...   \n",
            "5  [(' happy', 23), (' attached', 18), (' sad', 1...   \n",
            "6  [(' entitled', 14), (' fearful', 11), (' sad',...   \n",
            "7  [(' happy', 15), (' attracted', 11), (' attach...   \n",
            "8  [(' happy', 14), (' apathetic', 10), (' attach...   \n",
            "9  [(' happy', 29), (' lost', 19), (' sad', 14), ...   \n",
            "\n",
            "                             Aggregated Des Emotions  \n",
            "0  [(' average', 60), (' sad', 60), (' fearless',...  \n",
            "1                                                 []  \n",
            "2                                     [(' sad', 29)]  \n",
            "3                   [(' fearful', 60), (' sad', 30)]  \n",
            "4                                                 []  \n",
            "5                                 [(' fearful', 29)]  \n",
            "6     [(' sad', 56), (' alone', 56), (' angry', 28)]  \n",
            "7                                   [(' happy', 27)]  \n",
            "8                                   [(' happy', 30)]  \n",
            "9                                                 []  \n",
            "\n",
            "Entries from Books.csv:\n",
            "         ISBN                                         Book-Title  \\\n",
            "0  0195153448                                Classical Mythology   \n",
            "1  0002005018                                       Clara Callan   \n",
            "2  0060973129                               Decision in Normandy   \n",
            "3  0374157065  Flu: The Story of the Great Influenza Pandemic...   \n",
            "4  0393045218                             The Mummies of Urumchi   \n",
            "5  0399135782                             The Kitchen God's Wife   \n",
            "6  0425176428  What If?: The World's Foremost Military Histor...   \n",
            "7  0671870432                                    PLEADING GUILTY   \n",
            "8  0679425608  Under the Black Flag: The Romance and the Real...   \n",
            "9  074322678X            Where You'll Find Me: And Other Stories   \n",
            "\n",
            "            Book-Author Year-Of-Publication                   Publisher  \\\n",
            "0    Mark P. O. Morford                2002     Oxford University Press   \n",
            "1  Richard Bruce Wright                2001       HarperFlamingo Canada   \n",
            "2          Carlo D'Este                1991             HarperPerennial   \n",
            "3      Gina Bari Kolata                1999        Farrar Straus Giroux   \n",
            "4       E. J. W. Barber                1999  W. W. Norton &amp; Company   \n",
            "5               Amy Tan                1991            Putnam Pub Group   \n",
            "6         Robert Cowley                2000    Berkley Publishing Group   \n",
            "7           Scott Turow                1993                  Audioworks   \n",
            "8       David Cordingly                1996                Random House   \n",
            "9           Ann Beattie                2002                    Scribner   \n",
            "\n",
            "                                         Image-URL-S  \\\n",
            "0  http://images.amazon.com/images/P/0195153448.0...   \n",
            "1  http://images.amazon.com/images/P/0002005018.0...   \n",
            "2  http://images.amazon.com/images/P/0060973129.0...   \n",
            "3  http://images.amazon.com/images/P/0374157065.0...   \n",
            "4  http://images.amazon.com/images/P/0393045218.0...   \n",
            "5  http://images.amazon.com/images/P/0399135782.0...   \n",
            "6  http://images.amazon.com/images/P/0425176428.0...   \n",
            "7  http://images.amazon.com/images/P/0671870432.0...   \n",
            "8  http://images.amazon.com/images/P/0679425608.0...   \n",
            "9  http://images.amazon.com/images/P/074322678X.0...   \n",
            "\n",
            "                                         Image-URL-M  \\\n",
            "0  http://images.amazon.com/images/P/0195153448.0...   \n",
            "1  http://images.amazon.com/images/P/0002005018.0...   \n",
            "2  http://images.amazon.com/images/P/0060973129.0...   \n",
            "3  http://images.amazon.com/images/P/0374157065.0...   \n",
            "4  http://images.amazon.com/images/P/0393045218.0...   \n",
            "5  http://images.amazon.com/images/P/0399135782.0...   \n",
            "6  http://images.amazon.com/images/P/0425176428.0...   \n",
            "7  http://images.amazon.com/images/P/0671870432.0...   \n",
            "8  http://images.amazon.com/images/P/0679425608.0...   \n",
            "9  http://images.amazon.com/images/P/074322678X.0...   \n",
            "\n",
            "                                         Image-URL-L  \n",
            "0  http://images.amazon.com/images/P/0195153448.0...  \n",
            "1  http://images.amazon.com/images/P/0002005018.0...  \n",
            "2  http://images.amazon.com/images/P/0060973129.0...  \n",
            "3  http://images.amazon.com/images/P/0374157065.0...  \n",
            "4  http://images.amazon.com/images/P/0393045218.0...  \n",
            "5  http://images.amazon.com/images/P/0399135782.0...  \n",
            "6  http://images.amazon.com/images/P/0425176428.0...  \n",
            "7  http://images.amazon.com/images/P/0671870432.0...  \n",
            "8  http://images.amazon.com/images/P/0679425608.0...  \n",
            "9  http://images.amazon.com/images/P/074322678X.0...  \n"
          ]
        },
        {
          "output_type": "stream",
          "name": "stderr",
          "text": [
            "<ipython-input-2-f0719117809d>:5: DtypeWarning: Columns (3) have mixed types. Specify dtype option on import or set low_memory=False.\n",
            "  books_kaggle = pd.read_csv('/content/drive/MyDrive/Project/Books.csv')\n"
          ]
        }
      ]
    },
    {
      "cell_type": "code",
      "source": [
        "# Merge the DataFrames based on the book title\n",
        "merged_df = pd.merge(books_all, books_kaggle, left_on='Book', right_on='Book-Title', how='inner')\n",
        "\n",
        "# Define the columns you want to include in the output\n",
        "columns_to_print = ['Book Title', 'Book Authors', 'Book Overall Rating', 'ISBN', 'Book-Author' ]  # Add other column names as needed\n",
        "\n",
        "# Print only the mentioned columns in the merged DataFrame\n",
        "#print(merged_df[columns_to_print])\n",
        "\n",
        "# Drop duplicate rows based on ISBN\n",
        "merged_df_unique_isbn = merged_df.drop_duplicates(subset='ISBN')\n",
        "\n",
        "# Print the resulting DataFrame\n",
        "#print(merged_df_unique_isbn[columns_to_print])\n",
        "\n",
        "# Sort the DataFrame based on 'Book Overall Rating'\n",
        "sorted_df = merged_df_unique_isbn.sort_values(by='Book Overall Rating', ascending=False)\n",
        "\n",
        "# Print the sorted DataFrame\n",
        "print(sorted_df[columns_to_print])"
      ],
      "metadata": {
        "colab": {
          "base_uri": "https://localhost:8080/",
          "height": 365
        },
        "id": "tqy_5DfZJOj9",
        "outputId": "602a5ebd-1799-4da0-a59e-922855121c43"
      },
      "execution_count": null,
      "outputs": [
        {
          "output_type": "error",
          "ename": "KeyError",
          "evalue": "'Book Overall Rating'",
          "traceback": [
            "\u001b[0;31m---------------------------------------------------------------------------\u001b[0m",
            "\u001b[0;31mKeyError\u001b[0m                                  Traceback (most recent call last)",
            "\u001b[0;32m<ipython-input-5-851b09a21ea0>\u001b[0m in \u001b[0;36m<cell line: 17>\u001b[0;34m()\u001b[0m\n\u001b[1;32m     15\u001b[0m \u001b[0;34m\u001b[0m\u001b[0m\n\u001b[1;32m     16\u001b[0m \u001b[0;31m# Sort the DataFrame based on 'Book Overall Rating'\u001b[0m\u001b[0;34m\u001b[0m\u001b[0;34m\u001b[0m\u001b[0m\n\u001b[0;32m---> 17\u001b[0;31m \u001b[0msorted_df\u001b[0m \u001b[0;34m=\u001b[0m \u001b[0mmerged_df_unique_isbn\u001b[0m\u001b[0;34m.\u001b[0m\u001b[0msort_values\u001b[0m\u001b[0;34m(\u001b[0m\u001b[0mby\u001b[0m\u001b[0;34m=\u001b[0m\u001b[0;34m'Book Overall Rating'\u001b[0m\u001b[0;34m,\u001b[0m \u001b[0mascending\u001b[0m\u001b[0;34m=\u001b[0m\u001b[0;32mFalse\u001b[0m\u001b[0;34m)\u001b[0m\u001b[0;34m\u001b[0m\u001b[0;34m\u001b[0m\u001b[0m\n\u001b[0m\u001b[1;32m     18\u001b[0m \u001b[0;34m\u001b[0m\u001b[0m\n\u001b[1;32m     19\u001b[0m \u001b[0;31m# Print the sorted DataFrame\u001b[0m\u001b[0;34m\u001b[0m\u001b[0;34m\u001b[0m\u001b[0m\n",
            "\u001b[0;32m/usr/local/lib/python3.10/dist-packages/pandas/core/frame.py\u001b[0m in \u001b[0;36msort_values\u001b[0;34m(self, by, axis, ascending, inplace, kind, na_position, ignore_index, key)\u001b[0m\n\u001b[1;32m   6756\u001b[0m \u001b[0;34m\u001b[0m\u001b[0m\n\u001b[1;32m   6757\u001b[0m             \u001b[0mby\u001b[0m \u001b[0;34m=\u001b[0m \u001b[0mby\u001b[0m\u001b[0;34m[\u001b[0m\u001b[0;36m0\u001b[0m\u001b[0;34m]\u001b[0m\u001b[0;34m\u001b[0m\u001b[0;34m\u001b[0m\u001b[0m\n\u001b[0;32m-> 6758\u001b[0;31m             \u001b[0mk\u001b[0m \u001b[0;34m=\u001b[0m \u001b[0mself\u001b[0m\u001b[0;34m.\u001b[0m\u001b[0m_get_label_or_level_values\u001b[0m\u001b[0;34m(\u001b[0m\u001b[0mby\u001b[0m\u001b[0;34m,\u001b[0m \u001b[0maxis\u001b[0m\u001b[0;34m=\u001b[0m\u001b[0maxis\u001b[0m\u001b[0;34m)\u001b[0m\u001b[0;34m\u001b[0m\u001b[0;34m\u001b[0m\u001b[0m\n\u001b[0m\u001b[1;32m   6759\u001b[0m \u001b[0;34m\u001b[0m\u001b[0m\n\u001b[1;32m   6760\u001b[0m             \u001b[0;31m# need to rewrap column in Series to apply key function\u001b[0m\u001b[0;34m\u001b[0m\u001b[0;34m\u001b[0m\u001b[0m\n",
            "\u001b[0;32m/usr/local/lib/python3.10/dist-packages/pandas/core/generic.py\u001b[0m in \u001b[0;36m_get_label_or_level_values\u001b[0;34m(self, key, axis)\u001b[0m\n\u001b[1;32m   1776\u001b[0m             \u001b[0mvalues\u001b[0m \u001b[0;34m=\u001b[0m \u001b[0mself\u001b[0m\u001b[0;34m.\u001b[0m\u001b[0maxes\u001b[0m\u001b[0;34m[\u001b[0m\u001b[0maxis\u001b[0m\u001b[0;34m]\u001b[0m\u001b[0;34m.\u001b[0m\u001b[0mget_level_values\u001b[0m\u001b[0;34m(\u001b[0m\u001b[0mkey\u001b[0m\u001b[0;34m)\u001b[0m\u001b[0;34m.\u001b[0m\u001b[0m_values\u001b[0m\u001b[0;34m\u001b[0m\u001b[0;34m\u001b[0m\u001b[0m\n\u001b[1;32m   1777\u001b[0m         \u001b[0;32melse\u001b[0m\u001b[0;34m:\u001b[0m\u001b[0;34m\u001b[0m\u001b[0;34m\u001b[0m\u001b[0m\n\u001b[0;32m-> 1778\u001b[0;31m             \u001b[0;32mraise\u001b[0m \u001b[0mKeyError\u001b[0m\u001b[0;34m(\u001b[0m\u001b[0mkey\u001b[0m\u001b[0;34m)\u001b[0m\u001b[0;34m\u001b[0m\u001b[0;34m\u001b[0m\u001b[0m\n\u001b[0m\u001b[1;32m   1779\u001b[0m \u001b[0;34m\u001b[0m\u001b[0m\n\u001b[1;32m   1780\u001b[0m         \u001b[0;31m# Check for duplicates\u001b[0m\u001b[0;34m\u001b[0m\u001b[0;34m\u001b[0m\u001b[0m\n",
            "\u001b[0;31mKeyError\u001b[0m: 'Book Overall Rating'"
          ]
        }
      ]
    },
    {
      "cell_type": "code",
      "source": [],
      "metadata": {
        "id": "Pl0OCaZRKg93"
      },
      "execution_count": null,
      "outputs": []
    }
  ]
}