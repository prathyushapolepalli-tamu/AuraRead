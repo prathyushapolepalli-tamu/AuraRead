{
  "nbformat": 4,
  "nbformat_minor": 0,
  "metadata": {
    "colab": {
      "provenance": []
    },
    "kernelspec": {
      "name": "python3",
      "display_name": "Python 3"
    },
    "language_info": {
      "name": "python"
    }
  },
  "cells": [
    {
      "cell_type": "code",
      "execution_count": 5,
      "metadata": {
        "colab": {
          "base_uri": "https://localhost:8080/"
        },
        "id": "2FpgGFBcE-dC",
        "outputId": "60a25ba7-0a31-400a-d654-6a2d1d45dede"
      },
      "outputs": [
        {
          "output_type": "stream",
          "name": "stdout",
          "text": [
            "Mounted at /content/drive\n"
          ]
        }
      ],
      "source": [
        "from google.colab import drive\n",
        "drive.mount('/content/drive')"
      ]
    },
    {
      "cell_type": "code",
      "source": [
        "import pandas as pd\n",
        "import numpy as np\n",
        "from sklearn.preprocessing import LabelEncoder\n",
        "from sklearn.model_selection import train_test_split\n",
        "from tensorflow.keras.models import Model\n",
        "from tensorflow.keras.layers import Input, Embedding, Flatten, Dense, Dot, Add\n",
        "from tensorflow.keras.optimizers import Adam\n",
        "from tensorflow.keras.regularizers import l2"
      ],
      "metadata": {
        "id": "kqtuSK7fMo3M"
      },
      "execution_count": 6,
      "outputs": []
    },
    {
      "cell_type": "code",
      "source": [
        "# -------------------------------------------- Bucket MOOD : books_with_rats_moods.csv ----------------------------------------------------- #\n",
        "# Custom function to handle unseen labels\n",
        "def transform_with_fallback(encoder, labels, default='unknown'):\n",
        "    if not hasattr(encoder, 'classes_'):\n",
        "        raise ValueError(\"This LabelEncoder instance is not fitted yet.\")\n",
        "    unseen_labels = [label for label in labels if label not in encoder.classes_]\n",
        "    if unseen_labels:\n",
        "        if default not in encoder.classes_:\n",
        "            encoder.classes_ = np.append(encoder.classes_, default)\n",
        "        return encoder.transform([default if label in unseen_labels else label for label in labels])\n",
        "    else:\n",
        "        return encoder.transform(labels)"
      ],
      "metadata": {
        "id": "mXiSAs14cAgJ"
      },
      "execution_count": 7,
      "outputs": []
    },
    {
      "cell_type": "code",
      "source": [
        "# Load the dataset\n",
        "merged_books_ratings = pd.read_csv('/content/drive/MyDrive/ISR Project /Project/books_with_rats_moods.csv')\n",
        "print(merged_books_ratings.columns)"
      ],
      "metadata": {
        "colab": {
          "base_uri": "https://localhost:8080/"
        },
        "id": "HPjIWwS-cDAA",
        "outputId": "1f2f41e7-32a5-40e5-9c18-8a2e69de4ce3"
      },
      "execution_count": 8,
      "outputs": [
        {
          "output_type": "stream",
          "name": "stdout",
          "text": [
            "Index(['Unnamed: 0', 'Book', 'Author', 'Description', 'Genres',\n",
            "       'Year of Publication', 'Publisher_x', 'URL', 'Aggregated Emotions',\n",
            "       'Aggregated Des Emotions', 'ISBN', 'Book-Title', 'Book-Author',\n",
            "       'Year-Of-Publication', 'Publisher_y', 'Image-URL-S', 'Image-URL-M',\n",
            "       'Image-URL-L', 'User-ID', 'Book-Rating', 'Sorted Buckets',\n",
            "       'Sorted Buckets desc', 'Total Buckets', 'Max Mood'],\n",
            "      dtype='object')\n"
          ]
        }
      ]
    },
    {
      "cell_type": "code",
      "source": [
        "# Encoding user IDs, book IDs, and Moods\n",
        "user_encoder = LabelEncoder()\n",
        "book_encoder = LabelEncoder()\n",
        "mood_encoder = LabelEncoder()\n",
        "\n",
        "merged_books_ratings['User-ID'] = merged_books_ratings['User-ID'].astype(str)\n",
        "\n",
        "merged_books_ratings['user_id_encoded'] = user_encoder.fit_transform(merged_books_ratings['User-ID'])\n",
        "merged_books_ratings['book_id_encoded'] = book_encoder.fit_transform(merged_books_ratings['Book'])\n",
        "#mood_encoder.fit(list(merged_books_ratings['Max Mood']) + ['unknown'])  # Including 'unknown' label\n",
        "mood_encoder.fit([m.lower() for m in merged_books_ratings['Max Mood']] + ['unknown'])\n",
        "#merged_books_ratings['mood_encoded'] = transform_with_fallback(mood_encoder, merged_books_ratings['Max Mood'])\n",
        "merged_books_ratings['mood_encoded'] = transform_with_fallback(mood_encoder, [m.lower() for m in merged_books_ratings['Max Mood']], default='unknown')\n",
        "\n",
        "print(\"Mood classes after fitting:\", mood_encoder.classes_)\n",
        "print(\"User ID classes in encoder:\", user_encoder.classes_)\n",
        "print(\"User ID '26' in encoder classes:\", '26' in user_encoder.classes_)\n",
        "#print(\"Unique moods in dataset:\", merged_books_ratings['Max Mood'].unique())"
      ],
      "metadata": {
        "colab": {
          "base_uri": "https://localhost:8080/"
        },
        "id": "tyXxTKd2cF1D",
        "outputId": "086af495-d72e-43a4-c38e-bc070063c2d2"
      },
      "execution_count": 9,
      "outputs": [
        {
          "output_type": "stream",
          "name": "stdout",
          "text": [
            "Mood classes after fitting: ['fearful' 'joyful' 'melancholic' 'motivational' 'romantic' 'unknown']\n",
            "User ID classes in encoder: ['100004' '100009' '100010' ... '99980' '99996' '99997']\n",
            "User ID '26' in encoder classes: True\n"
          ]
        }
      ]
    },
    {
      "cell_type": "code",
      "source": [
        "# Normalize ratings\n",
        "merged_books_ratings['Book-Rating'] = merged_books_ratings['Book-Rating'].apply(lambda x: (x - 1) / 9)"
      ],
      "metadata": {
        "id": "6WGIet9ycJHi"
      },
      "execution_count": 10,
      "outputs": []
    },
    {
      "cell_type": "code",
      "source": [
        "# Split the data\n",
        "train, test = train_test_split(merged_books_ratings, test_size=0.2, random_state=42)"
      ],
      "metadata": {
        "id": "6HF0wG1ZcMdD"
      },
      "execution_count": 11,
      "outputs": []
    },
    {
      "cell_type": "code",
      "source": [
        "# Model architecture for collaborative filtering\n",
        "def build_collaborative_filtering_model(num_users, num_books, embedding_size=15):\n",
        "    user_input = Input(shape=(1,))\n",
        "    book_input = Input(shape=(1,))\n",
        "    user_embedding = Embedding(num_users, embedding_size, embeddings_regularizer=l2(1e-6))(user_input)\n",
        "    book_embedding = Embedding(num_books, embedding_size, embeddings_regularizer=l2(1e-6))(book_input)\n",
        "    user_vec = Flatten()(user_embedding)\n",
        "    book_vec = Flatten()(book_embedding)\n",
        "    dot_product = Dot(axes=1)([user_vec, book_vec])\n",
        "    user_bias = Flatten()(Embedding(num_users, 1)(user_input))\n",
        "    book_bias = Flatten()(Embedding(num_books, 1)(book_input))\n",
        "    sum = Add()([dot_product, user_bias, book_bias])\n",
        "    model = Model([user_input, book_input], sum)\n",
        "    model.compile(optimizer=Adam(0.001), loss='mean_squared_error')\n",
        "    return model\n",
        "\n",
        "# Build and train the model\n",
        "model = build_collaborative_filtering_model(len(user_encoder.classes_), len(book_encoder.classes_))\n",
        "model.fit([train['user_id_encoded'], train['book_id_encoded']], train['Book-Rating'], batch_size=64, epochs=5, validation_split=0.1)"
      ],
      "metadata": {
        "colab": {
          "base_uri": "https://localhost:8080/"
        },
        "id": "ECk1KuaOcQaI",
        "outputId": "6e313bfb-b41d-4200-b765-b0c03df71252"
      },
      "execution_count": 12,
      "outputs": [
        {
          "output_type": "stream",
          "name": "stdout",
          "text": [
            "Epoch 1/5\n",
            "519/519 [==============================] - 5s 6ms/step - loss: 0.2484 - val_loss: 0.2261\n",
            "Epoch 2/5\n",
            "519/519 [==============================] - 2s 4ms/step - loss: 0.2008 - val_loss: 0.2062\n",
            "Epoch 3/5\n",
            "519/519 [==============================] - 2s 4ms/step - loss: 0.1477 - val_loss: 0.1988\n",
            "Epoch 4/5\n",
            "519/519 [==============================] - 2s 4ms/step - loss: 0.0937 - val_loss: 0.1987\n",
            "Epoch 5/5\n",
            "519/519 [==============================] - 2s 5ms/step - loss: 0.0598 - val_loss: 0.2015\n"
          ]
        },
        {
          "output_type": "execute_result",
          "data": {
            "text/plain": [
              "<keras.src.callbacks.History at 0x7a55c80730d0>"
            ]
          },
          "metadata": {},
          "execution_count": 12
        }
      ]
    },
    {
      "cell_type": "code",
      "source": [
        "# Function to recommend books based on user similarity and mood\n",
        "def recommend_books(user_id, mood, top_n=5):\n",
        "    try:\n",
        "        user_id_str = str(user_id)  # Convert to string to match the encoding\n",
        "        mood_str = mood.lower()     # Convert to lowercase to match the encoding\n",
        "\n",
        "        print(\"Looking for user:\", user_id_str)\n",
        "        print(\"Looking for mood:\", mood_str)\n",
        "\n",
        "        # Check if the user and mood are in the encoder classes\n",
        "        if user_id_str not in user_encoder.classes_:\n",
        "            return f\"User ID '{user_id_str}' not found in dataset.\"\n",
        "        if mood_str not in mood_encoder.classes_:\n",
        "            return f\"Mood '{mood_str}' not found in dataset.\"\n",
        "\n",
        "        user_idx = user_encoder.transform([user_id_str])\n",
        "        mood_idx = mood_encoder.transform([mood_str])\n",
        "        print(f\"User index: {user_idx}\")\n",
        "        print(f\"Mood index: {mood_idx}\")\n",
        "\n",
        "        # Get the valid books for the mood index\n",
        "        valid_books = merged_books_ratings[merged_books_ratings['mood_encoded'] == mood_idx[0]]['book_id_encoded'].unique()\n",
        "        #print(f\"Valid books indices: {valid_books}\")\n",
        "        print(f\"Number of valid books for mood '{mood_str}': {len(valid_books)}\")\n",
        "\n",
        "        if len(valid_books) == 0:\n",
        "            return f\"No books found for mood '{mood_str}'.\"\n",
        "\n",
        "        # Predict the ratings for the valid books\n",
        "        predictions = model.predict([np.array([user_idx[0]] * len(valid_books)), valid_books])\n",
        "        #print(f\"Predictions: {predictions}\")\n",
        "\n",
        "        top_books_idx = predictions.flatten().argsort()[-top_n:][::-1]\n",
        "        recommended_books = book_encoder.inverse_transform(top_books_idx)\n",
        "\n",
        "        return recommended_books\n",
        "    except Exception as e:\n",
        "        return f\"An error occurred: {str(e)}\""
      ],
      "metadata": {
        "id": "gliuxUEqcYVr"
      },
      "execution_count": 13,
      "outputs": []
    },
    {
      "cell_type": "code",
      "source": [
        "# Test the recommendation function\n",
        "user_id = \"26\"  # Use a valid user ID for testing\n",
        "mood = \"Melancholic\"  # Example mood\n",
        "#print(\"Recommended Books:\", recommend_books(test_user_id, test_mood))\n",
        "recommended_books = recommend_books(user_id, mood)\n",
        "print(recommended_books)\n",
        "\n",
        "# Fetch the corresponding image URLs from the dataset\n",
        "image_urls = merged_books_ratings.loc[merged_books_ratings['Book'].isin(recommended_books), 'URL']\n",
        "#print(image_urls)\n",
        "\n",
        "# Display the recommendations with images\n",
        "print(f\"Recommendations for User ID {user_id} with mood '{mood}':\")\n",
        "for book, url in zip(recommended_books, image_urls):\n",
        "    print(f\" - {book}\")\n",
        "    print(url)\n",
        "    print()  # Add space between different recommendations"
      ],
      "metadata": {
        "colab": {
          "base_uri": "https://localhost:8080/"
        },
        "id": "O4MtJkVFZroq",
        "outputId": "4cfbb4ec-6071-41f3-f14b-63fe7f38b30b"
      },
      "execution_count": 20,
      "outputs": [
        {
          "output_type": "stream",
          "name": "stdout",
          "text": [
            "Looking for user: 26\n",
            "Looking for mood: melancholic\n",
            "User index: [10681]\n",
            "Mood index: [2]\n",
            "Number of valid books for mood 'melancholic': 503\n",
            "16/16 [==============================] - 0s 1ms/step\n",
            "['dhalgren' 'darkness at noon' 'even cowgirls get the blues'\n",
            " 'balzac and the little chinese seamstress' '1984']\n",
            "Recommendations for User ID 26 with mood 'Melancholic':\n",
            " - dhalgren\n",
            "https://www.goodreads.com/book/show/7572.Even_Cowgirls_Get_the_Blues\n",
            "\n",
            " - darkness at noon\n",
            "https://www.goodreads.com/book/show/7572.Even_Cowgirls_Get_the_Blues\n",
            "\n",
            " - even cowgirls get the blues\n",
            "https://www.goodreads.com/book/show/7572.Even_Cowgirls_Get_the_Blues\n",
            "\n",
            " - balzac and the little chinese seamstress\n",
            "https://www.goodreads.com/book/show/7572.Even_Cowgirls_Get_the_Blues\n",
            "\n",
            " - 1984\n",
            "https://www.goodreads.com/book/show/7572.Even_Cowgirls_Get_the_Blues\n",
            "\n"
          ]
        }
      ]
    },
    {
      "cell_type": "code",
      "source": [
        "# Assuming the model and data encoding are already set up as per previous discussions\n",
        "# Example users and moods for testing\n",
        "test_cases = [\n",
        "    {\"user_id\": str(user_encoder.classes_[0]), \"mood\": mood_encoder.inverse_transform([0])[0].lower()},  # first user and first mood\n",
        "    {\"user_id\": str(user_encoder.classes_[1]), \"mood\": mood_encoder.inverse_transform([1])[0].lower()},  # second user and second mood\n",
        "    {\"user_id\": str(user_encoder.classes_[2]), \"mood\": mood_encoder.inverse_transform([2])[0].lower()},  # third user and third mood\n",
        "    {\"user_id\": str(user_encoder.classes_[3]), \"mood\": mood_encoder.inverse_transform([3])[0].lower()},  # fourth user and fourth mood\n",
        "    {\"user_id\": str(user_encoder.classes_[4]), \"mood\": mood_encoder.inverse_transform([4])[0].lower()}   # fifth user and fifth mood\n",
        "]\n",
        "\n",
        "# Test the recommendation system for each case\n",
        "for case in test_cases:\n",
        "    recommended_books = recommend_books(case[\"user_id\"], case[\"mood\"], top_n=5)\n",
        "    print(f\"Recommendations for User ID {case['user_id']} with mood '{case['mood']}':\")\n",
        "    image_urls = merged_books_ratings.loc[merged_books_ratings['Book'].isin(recommended_books), 'URL']\n",
        "    for book, url in zip(recommended_books, image_urls):\n",
        "      print(f\" - {book}\")\n",
        "      print(url)\n",
        "    print()  # Just to add space between different test cases"
      ],
      "metadata": {
        "colab": {
          "base_uri": "https://localhost:8080/"
        },
        "id": "GQKdyGfiX0RX",
        "outputId": "30c9524e-4671-427c-c403-3eb0e7993f42"
      },
      "execution_count": 21,
      "outputs": [
        {
          "output_type": "stream",
          "name": "stdout",
          "text": [
            "Looking for user: 100004\n",
            "Looking for mood: fearful\n",
            "User index: [0]\n",
            "Mood index: [0]\n",
            "Number of valid books for mood 'fearful': 50\n",
            "2/2 [==============================] - 0s 5ms/step\n",
            "Recommendations for User ID 100004 with mood 'fearful':\n",
            " - a light in the attic\n",
            "https://www.goodreads.com/book/show/28920.A_Pale_View_of_Hills\n",
            " - 2010: odyssey two\n",
            "https://www.goodreads.com/book/show/5197.A_Lesson_Before_Dying\n",
            " - a lesson before dying\n",
            "https://www.goodreads.com/book/show/5197.A_Lesson_Before_Dying\n",
            " - a clockwork orange\n",
            "https://www.goodreads.com/book/show/5197.A_Lesson_Before_Dying\n",
            " - a pale view of hills\n",
            "https://www.goodreads.com/book/show/5197.A_Lesson_Before_Dying\n",
            "\n",
            "Looking for user: 100009\n",
            "Looking for mood: joyful\n",
            "User index: [1]\n",
            "Mood index: [1]\n",
            "Number of valid books for mood 'joyful': 765\n",
            "24/24 [==============================] - 0s 1ms/step\n",
            "Recommendations for User ID 100009 with mood 'joyful':\n",
            " - brave new world\n",
            "https://www.goodreads.com/book/show/95608.Leota_s_Garden\n",
            " - crime and punishment\n",
            "https://www.goodreads.com/book/show/765172.Cane\n",
            " - caps for sale: a tale of a peddler, some monkeys and their monkey business\n",
            "https://www.goodreads.com/book/show/765172.Cane\n",
            " - leota's garden\n",
            "https://www.goodreads.com/book/show/765172.Cane\n",
            " - cane\n",
            "https://www.goodreads.com/book/show/775597.Caps_for_Sale\n",
            "\n",
            "Looking for user: 100010\n",
            "Looking for mood: melancholic\n",
            "User index: [2]\n",
            "Mood index: [2]\n",
            "Number of valid books for mood 'melancholic': 503\n",
            "16/16 [==============================] - 0s 1ms/step\n",
            "Recommendations for User ID 100010 with mood 'melancholic':\n",
            " - cryptonomicon\n",
            "https://www.goodreads.com/book/show/118041.A_Day_No_Pigs_Would_Die\n",
            " - bedtime for frances\n",
            "https://www.goodreads.com/book/show/118041.A_Day_No_Pigs_Would_Die\n",
            " - a day no pigs would die\n",
            "https://www.goodreads.com/book/show/118041.A_Day_No_Pigs_Would_Die\n",
            " - dhalgren\n",
            "https://www.goodreads.com/book/show/118041.A_Day_No_Pigs_Would_Die\n",
            " - from the mixed-up files of mrs. basil e. frankweiler\n",
            "https://www.goodreads.com/book/show/118041.A_Day_No_Pigs_Would_Die\n",
            "\n",
            "Looking for user: 100043\n",
            "Looking for mood: motivational\n",
            "User index: [3]\n",
            "Mood index: [3]\n",
            "Number of valid books for mood 'motivational': 45\n",
            "2/2 [==============================] - 0s 6ms/step\n",
            "Recommendations for User ID 100043 with mood 'motivational':\n",
            " - a certain age\n",
            "https://www.goodreads.com/book/show/86172.A_Man_in_Full\n",
            " - a farewell to arms\n",
            "https://www.goodreads.com/book/show/86172.A_Man_in_Full\n",
            " - a man in full\n",
            "https://www.goodreads.com/book/show/86172.A_Man_in_Full\n",
            " - a fine balance\n",
            "https://www.goodreads.com/book/show/86172.A_Man_in_Full\n",
            " - a connecticut yankee in king arthur's court\n",
            "https://www.goodreads.com/book/show/86172.A_Man_in_Full\n",
            "\n",
            "Looking for user: 100046\n",
            "Looking for mood: romantic\n",
            "User index: [4]\n",
            "Mood index: [4]\n",
            "Number of valid books for mood 'romantic': 90\n",
            "3/3 [==============================] - 0s 3ms/step\n",
            "Recommendations for User ID 100046 with mood 'romantic':\n",
            " - a light in the attic\n",
            "https://www.goodreads.com/book/show/720234.A_Midnight_Clear\n",
            " - airframe\n",
            "https://www.goodreads.com/book/show/720234.A_Midnight_Clear\n",
            " - a midnight clear\n",
            "https://www.goodreads.com/book/show/720234.A_Midnight_Clear\n",
            " - a small place\n",
            "https://www.goodreads.com/book/show/720234.A_Midnight_Clear\n",
            " - 1984\n",
            "https://www.goodreads.com/book/show/720234.A_Midnight_Clear\n",
            "\n"
          ]
        }
      ]
    },
    {
      "cell_type": "code",
      "source": [
        "user_id = \"21576\"\n",
        "mood = \"romantic\"\n",
        "recommended_books = recommend_books(user_id, mood, top_n=5)\n",
        "print(f\"Recommendations for User ID {user_id} with mood '{mood}':\")\n",
        "for book in recommended_books:\n",
        "    print(f\" - {book}\")\n",
        "print(\"\\n\")  # Just to add space between different test cases"
      ],
      "metadata": {
        "colab": {
          "base_uri": "https://localhost:8080/"
        },
        "id": "5y_zaKHuco58",
        "outputId": "a1573c79-d984-4743-caea-387533f3cd14"
      },
      "execution_count": 22,
      "outputs": [
        {
          "output_type": "stream",
          "name": "stdout",
          "text": [
            "Looking for user: 21576\n",
            "Looking for mood: romantic\n",
            "User index: [7570]\n",
            "Mood index: [4]\n",
            "Number of valid books for mood 'romantic': 90\n",
            "3/3 [==============================] - 0s 4ms/step\n",
            "Recommendations for User ID 21576 with mood 'romantic':\n",
            " - always outnumbered, always outgunned\n",
            " - a light in the attic\n",
            " - 2010: odyssey two\n",
            " - alas, babylon\n",
            " - a man\n",
            "\n",
            "\n"
          ]
        }
      ]
    },
    {
      "cell_type": "code",
      "source": [
        "import numpy as np\n",
        "from sklearn.metrics import mean_squared_error\n",
        "from math import sqrt\n",
        "\n",
        "# Assuming 'model' is the model you have already loaded and compiled\n",
        "# Ensure the 'test' DataFrames are prepared as per your split in the model training code\n",
        "\n",
        "# Predict ratings for the test dataset\n",
        "predicted_ratings = model.predict([test['user_id_encoded'], test['book_id_encoded']]).flatten()\n",
        "print(len(predicted_ratings))\n",
        "\n",
        "# True ratings extracted from the test dataset\n",
        "true_ratings = test['Book-Rating'].values\n",
        "print(len(true_ratings))\n",
        "\n",
        "# Calculate RMSE\n",
        "rmse = sqrt(mean_squared_error(true_ratings, predicted_ratings))\n",
        "print(\"Root Mean Squared Error (RMSE):\", rmse)\n",
        "\n",
        "# Define a function to calculate accuracy based on a threshold\n",
        "def calculate_accuracy(true_ratings, predicted_ratings, threshold=0.5):\n",
        "    correct = 0\n",
        "    for true, pred in zip(true_ratings, predicted_ratings):\n",
        "        if abs(true - pred) < threshold:\n",
        "            correct += 1\n",
        "    return correct / len(true_ratings)\n",
        "\n",
        "# Calculate and print accuracy\n",
        "accuracy = calculate_accuracy(true_ratings, predicted_ratings)\n",
        "print(\"Accuracy:\", accuracy)"
      ],
      "metadata": {
        "colab": {
          "base_uri": "https://localhost:8080/"
        },
        "id": "Mwl9jicOcpbT",
        "outputId": "0ebec7fa-61fd-482b-c8ed-9b59dc1669af"
      },
      "execution_count": 23,
      "outputs": [
        {
          "output_type": "stream",
          "name": "stdout",
          "text": [
            "289/289 [==============================] - 1s 2ms/step\n",
            "9223\n",
            "9223\n",
            "Root Mean Squared Error (RMSE): 0.448368017887179\n",
            "Accuracy: 0.7075788788897321\n"
          ]
        }
      ]
    }
  ]
}