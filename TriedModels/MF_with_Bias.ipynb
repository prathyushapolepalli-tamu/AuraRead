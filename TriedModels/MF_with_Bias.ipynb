{
  "nbformat": 4,
  "nbformat_minor": 0,
  "metadata": {
    "colab": {
      "provenance": []
    },
    "kernelspec": {
      "name": "python3",
      "display_name": "Python 3"
    },
    "language_info": {
      "name": "python"
    }
  },
  "cells": [
    {
      "cell_type": "code",
      "execution_count": 3,
      "metadata": {
        "colab": {
          "base_uri": "https://localhost:8080/"
        },
        "id": "SplVrRDM_Lnc",
        "outputId": "3f21e4c4-a71a-4bbd-e6e1-c9ba7c0f0dd4"
      },
      "outputs": [
        {
          "output_type": "stream",
          "name": "stdout",
          "text": [
            "Mounted at /content/drive\n"
          ]
        }
      ],
      "source": [
        "from google.colab import drive\n",
        "drive.mount('/content/drive')"
      ]
    },
    {
      "cell_type": "code",
      "source": [
        "import pandas as pd\n",
        "import numpy as np\n",
        "from ast import literal_eval\n",
        "from sklearn.preprocessing import LabelEncoder\n",
        "from sklearn.model_selection import train_test_split\n",
        "from tensorflow.keras.models import Model\n",
        "from tensorflow.keras.layers import Input, Embedding, Flatten, Dense, Dot, Add, Concatenate\n",
        "from tensorflow.keras.optimizers import Adam\n",
        "from tensorflow.keras.regularizers import l2"
      ],
      "metadata": {
        "id": "Za51y50J_y5f"
      },
      "execution_count": 4,
      "outputs": []
    },
    {
      "cell_type": "code",
      "source": [
        "# -------------------------------------------- Aggragated Emotions : literature_kaggle_ratings.csv ----------------------------------------------------- #\n",
        "# Load the dataset\n",
        "merged_books_ratings = pd.read_csv('/content/drive/MyDrive/ISR Project /literature_kaggle_ratings.csv')\n",
        "print(merged_books_ratings.columns)"
      ],
      "metadata": {
        "colab": {
          "base_uri": "https://localhost:8080/"
        },
        "id": "1kcYaOreYVyU",
        "outputId": "791b9e0c-de50-4c11-e0c0-256f6da2bb3d"
      },
      "execution_count": 5,
      "outputs": [
        {
          "output_type": "stream",
          "name": "stdout",
          "text": [
            "Index(['Unnamed: 0', 'Book_Id', 'Book', 'Author', 'Description', 'Genres',\n",
            "       'Avg_Rating', 'Num_Ratings', 'URL', 'Aggregated Emotions',\n",
            "       'Aggregated Des Emotions', 'ISBN', 'Book-Title', 'Book-Author',\n",
            "       'Year-Of-Publication', 'Publisher', 'Image-URL-S', 'Image-URL-M',\n",
            "       'Image-URL-L', 'User-ID', 'Book-Rating'],\n",
            "      dtype='object')\n"
          ]
        }
      ]
    },
    {
      "cell_type": "code",
      "source": [
        "# Preprocess and determine dominant mood\n",
        "def determine_dominant_mood(aggregated_emotions):\n",
        "    emotions_dict = literal_eval(aggregated_emotions)\n",
        "    sorted_emotions = sorted(emotions_dict, key=lambda x: -x[1])\n",
        "    #print(sorted_emotions[0][0])\n",
        "    if len(sorted_emotions) >= 1 and sorted_emotions[0][0].strip().lower() == \"happy\" and ((sorted_emotions[0][1] - sorted_emotions[1][1]) <= 100):\n",
        "        #print(\"reached this case\")\n",
        "        #print(sorted_emotions[1][0].strip().lower())\n",
        "        #print(\" \")\n",
        "        return sorted_emotions[1][0].strip().lower()\n",
        "    return sorted_emotions[0][0].strip().lower()"
      ],
      "metadata": {
        "id": "ObrqSt9bYcwW"
      },
      "execution_count": 6,
      "outputs": []
    },
    {
      "cell_type": "code",
      "source": [
        "merged_books_ratings['Dominant_Mood'] = merged_books_ratings['Aggregated Emotions'].apply(determine_dominant_mood)\n",
        "\n",
        "# Encoding user IDs, book IDs, and Dominant Moods\n",
        "user_encoder = LabelEncoder()\n",
        "book_encoder = LabelEncoder()\n",
        "mood_encoder = LabelEncoder()\n",
        "\n",
        "merged_books_ratings['user_id_encoded'] = user_encoder.fit_transform(merged_books_ratings['User-ID'])\n",
        "merged_books_ratings['book_id_encoded'] = book_encoder.fit_transform(merged_books_ratings['ISBN'])\n",
        "merged_books_ratings['mood_encoded'] = mood_encoder.fit_transform(merged_books_ratings['Dominant_Mood'])\n",
        "print(\"Mood classes after fitting:\", mood_encoder.classes_)\n",
        "\n",
        "# Normalize ratings\n",
        "merged_books_ratings['Book-Rating'] = merged_books_ratings['Book-Rating'].apply(lambda x: (x - 1) / 9)\n",
        "\n",
        "# Split the data\n",
        "train, test = train_test_split(merged_books_ratings, test_size=0.2, random_state=42)"
      ],
      "metadata": {
        "colab": {
          "base_uri": "https://localhost:8080/"
        },
        "id": "rjGHpdeuYveM",
        "outputId": "960c789d-f90a-464a-f232-c8fabbcc7efd"
      },
      "execution_count": 7,
      "outputs": [
        {
          "output_type": "stream",
          "name": "stdout",
          "text": [
            "Mood classes after fitting: ['anxious' 'attached' 'attracted' 'entitled' 'fearful' 'happy' 'powerless'\n",
            " 'sad']\n"
          ]
        }
      ]
    },
    {
      "cell_type": "code",
      "source": [
        "# Model architecture for collaborative filtering\n",
        "def build_collaborative_filtering_model(num_users, num_books, embedding_size=15):\n",
        "    # User and Book input layers\n",
        "    user_input = Input(shape=(1,))\n",
        "    book_input = Input(shape=(1,))\n",
        "\n",
        "    # Embeddings\n",
        "    user_embedding = Embedding(num_users, embedding_size, embeddings_regularizer=l2(1e-6))(user_input)\n",
        "    book_embedding = Embedding(num_books, embedding_size, embeddings_regularizer=l2(1e-6))(book_input)\n",
        "\n",
        "    # Flatten the embeddings\n",
        "    user_vec = Flatten()(user_embedding)\n",
        "    book_vec = Flatten()(book_embedding)\n",
        "\n",
        "    # Dot product of user and book embeddings\n",
        "    dot_product = Dot(axes=1)([user_vec, book_vec])\n",
        "\n",
        "    # Add bias\n",
        "    user_bias = Flatten()(Embedding(num_users, 1)(user_input))\n",
        "    book_bias = Flatten()(Embedding(num_books, 1)(book_input))\n",
        "    sum = Add()([dot_product, user_bias, book_bias])\n",
        "\n",
        "    model = Model([user_input, book_input], sum)\n",
        "    model.compile(optimizer=Adam(0.001), loss='mean_squared_error')\n",
        "\n",
        "    return model"
      ],
      "metadata": {
        "id": "1pubz-woY1dr"
      },
      "execution_count": 14,
      "outputs": []
    },
    {
      "cell_type": "code",
      "source": [
        "# Build and train the model\n",
        "model = build_collaborative_filtering_model(len(user_encoder.classes_), len(book_encoder.classes_))\n",
        "model.fit([train['user_id_encoded'], train['book_id_encoded']], train['Book-Rating'], batch_size=64, epochs=5, validation_split=0.1)"
      ],
      "metadata": {
        "colab": {
          "base_uri": "https://localhost:8080/"
        },
        "id": "4ICwME9BY5f-",
        "outputId": "8560a709-a05f-4780-e361-996cc3be24c3"
      },
      "execution_count": 15,
      "outputs": [
        {
          "output_type": "stream",
          "name": "stdout",
          "text": [
            "Epoch 1/5\n",
            "77/77 [==============================] - 1s 5ms/step - loss: 0.2711 - val_loss: 0.2608\n",
            "Epoch 2/5\n",
            "77/77 [==============================] - 0s 4ms/step - loss: 0.2483 - val_loss: 0.2490\n",
            "Epoch 3/5\n",
            "77/77 [==============================] - 0s 5ms/step - loss: 0.2258 - val_loss: 0.2397\n",
            "Epoch 4/5\n",
            "77/77 [==============================] - 1s 11ms/step - loss: 0.2008 - val_loss: 0.2321\n",
            "Epoch 5/5\n",
            "77/77 [==============================] - 1s 7ms/step - loss: 0.1715 - val_loss: 0.2259\n"
          ]
        },
        {
          "output_type": "execute_result",
          "data": {
            "text/plain": [
              "<keras.src.callbacks.History at 0x79435bf0d0f0>"
            ]
          },
          "metadata": {},
          "execution_count": 15
        }
      ]
    },
    {
      "cell_type": "code",
      "source": [
        "# Function to recommend books based on user similarity and mood\n",
        "def recommend_books(user_id, mood, top_n=5):\n",
        "    user_idx = user_encoder.transform([user_id])\n",
        "    mood_idx = mood_encoder.transform([mood.lower()])  # ensure lowercase for mood matching\n",
        "    valid_books = merged_books_ratings[merged_books_ratings['mood_encoded'] == mood_idx[0]]['book_id_encoded'].unique()\n",
        "\n",
        "    # Predict ratings for all books filtered by mood\n",
        "    book_ratings = model.predict([np.array([user_idx[0]] * len(valid_books)), valid_books])\n",
        "    top_books_idx = book_ratings.flatten().argsort()[-top_n:][::-1]\n",
        "    recommended_books = book_encoder.inverse_transform(valid_books[top_books_idx])\n",
        "\n",
        "    return recommended_books"
      ],
      "metadata": {
        "id": "4Q5XsadUY9Ce"
      },
      "execution_count": 16,
      "outputs": []
    },
    {
      "cell_type": "code",
      "source": [
        "# Test the recommendation function\n",
        "test_user_id = user_encoder.classes_[0]  # Replace with a valid user ID\n",
        "test_mood = 'happy'  # Replace with a valid mood\n",
        "print(\"Recommended Books:\", recommend_books(test_user_id, test_mood))"
      ],
      "metadata": {
        "colab": {
          "base_uri": "https://localhost:8080/"
        },
        "id": "IMVydx9T_2gw",
        "outputId": "d486e2cb-9e05-442a-ce2c-164478968e70"
      },
      "execution_count": 17,
      "outputs": [
        {
          "output_type": "stream",
          "name": "stdout",
          "text": [
            "1/1 [==============================] - 0s 130ms/step\n",
            "Recommended Books: ['0843941081' '0066620996' '0515131334' '0451201302']\n"
          ]
        }
      ]
    },
    {
      "cell_type": "code",
      "source": [
        "# Evaluate the model\n",
        "eval_loss = model.evaluate([test['user_id_encoded'], test['book_id_encoded']], test['Book-Rating'])\n",
        "print(f'Evaluation Loss: {eval_loss}')"
      ],
      "metadata": {
        "colab": {
          "base_uri": "https://localhost:8080/"
        },
        "id": "ZuJLdqhSFJFI",
        "outputId": "f3a9712f-8fbc-4218-9241-b2cd30e656f1"
      },
      "execution_count": 18,
      "outputs": [
        {
          "output_type": "stream",
          "name": "stdout",
          "text": [
            "43/43 [==============================] - 0s 2ms/step - loss: 0.2249\n",
            "Evaluation Loss: 0.22491636872291565\n"
          ]
        }
      ]
    },
    {
      "cell_type": "code",
      "source": [
        "import pandas as pd\n",
        "import matplotlib.pyplot as plt\n",
        "import requests\n",
        "from PIL import Image\n",
        "from io import BytesIO\n",
        "\n",
        "# Assuming recommend_books() returns a list of recommended books\n",
        "user_id = \"26\"\n",
        "mood = \"happy\"\n",
        "recommended_books = recommend_books(user_id, mood, top_n=5)\n",
        "\n",
        "# Fetch the corresponding image URLs from the dataset\n",
        "image_urls = merged_books_ratings.loc[merged_books_ratings['ISBN'].isin(recommended_books), 'Image-URL-S']\n",
        "#print(image_urls)\n",
        "\n",
        "# Display the recommendations with images\n",
        "print(f\"Recommendations for User ID {user_id} with mood '{mood}':\")\n",
        "for book, url in zip(recommended_books, image_urls):\n",
        "    print(f\" - {book}\")\n",
        "    print(url)\n",
        "    try:\n",
        "        # Check if the URL is valid\n",
        "        if pd.notna(url) and requests.head(url).status_code == 200:\n",
        "            response = requests.get(url)\n",
        "            img = Image.open(BytesIO(response.content))\n",
        "            plt.figure()\n",
        "            plt.imshow(img)\n",
        "            plt.title(book)\n",
        "            plt.axis('off')\n",
        "            plt.show()\n",
        "    except Exception as e:\n",
        "        print(f\"Error loading image for book {book}: {e}\")\n",
        "        continue  # Skip to the next book if there's an error\n",
        "    print()  # Add space between different recommendations\n"
      ],
      "metadata": {
        "colab": {
          "base_uri": "https://localhost:8080/"
        },
        "id": "2M2WFi_bBCC6",
        "outputId": "40e50dcb-e0a7-4ab5-bf1f-e2f2ded372b4"
      },
      "execution_count": 19,
      "outputs": [
        {
          "output_type": "stream",
          "name": "stdout",
          "text": [
            "1/1 [==============================] - 0s 39ms/step\n",
            "Recommendations for User ID 26 with mood 'happy':\n",
            " - 0843941081\n",
            "http://images.amazon.com/images/P/0066620996.01.THUMBZZZ.jpg\n",
            "\n",
            " - 0066620996\n",
            "http://images.amazon.com/images/P/0066620996.01.THUMBZZZ.jpg\n",
            "\n",
            " - 0515131334\n",
            "http://images.amazon.com/images/P/0066620996.01.THUMBZZZ.jpg\n",
            "\n",
            " - 0451201302\n",
            "http://images.amazon.com/images/P/0066620996.01.THUMBZZZ.jpg\n",
            "\n"
          ]
        }
      ]
    }
  ]
}